{
 "cells": [
  {
   "cell_type": "code",
   "execution_count": 1,
   "metadata": {},
   "outputs": [
    {
     "name": "stderr",
     "output_type": "stream",
     "text": [
      "/Users/sophiagucciardi/Desktop/fall 2024/dsba_6156/machine_learning_grp_project/venv/lib/python3.9/site-packages/urllib3/__init__.py:35: NotOpenSSLWarning: urllib3 v2 only supports OpenSSL 1.1.1+, currently the 'ssl' module is compiled with 'LibreSSL 2.8.3'. See: https://github.com/urllib3/urllib3/issues/3020\n",
      "  warnings.warn(\n",
      "/Users/sophiagucciardi/Desktop/fall 2024/dsba_6156/machine_learning_grp_project/venv/lib/python3.9/site-packages/tqdm/auto.py:21: TqdmWarning: IProgress not found. Please update jupyter and ipywidgets. See https://ipywidgets.readthedocs.io/en/stable/user_install.html\n",
      "  from .autonotebook import tqdm as notebook_tqdm\n"
     ]
    }
   ],
   "source": [
    "from selenium import webdriver\n",
    "from bs4 import BeautifulSoup\n",
    "from datasets import Dataset\n",
    "import pandas as pd\n",
    "import time"
   ]
  },
  {
   "cell_type": "code",
   "execution_count": 2,
   "metadata": {},
   "outputs": [],
   "source": [
    "#add all urls to list, right now i just added a few\n",
    "urls = [\"https://bsmlawfirm.com/practice-areas\", \"https://www.pinnacletravelstaffing.com/\"]\n",
    "soups = []"
   ]
  },
  {
   "cell_type": "code",
   "execution_count": null,
   "metadata": {},
   "outputs": [
    {
     "name": "stdout",
     "output_type": "stream",
     "text": [
      "Please paste the URL for the company's 'About' page, or another page that outlines what the company does:\n"
     ]
    }
   ],
   "source": [
    "#url input\n",
    "print(\"Please paste the URL for the company's 'About' page, or another page that outlines what the company does:\")\n",
    "url = input()"
   ]
  },
  {
   "cell_type": "code",
   "execution_count": 11,
   "metadata": {},
   "outputs": [],
   "source": [
    "#temporary, delete later and will use user input\n",
    "url = 'https://www.theleague.global/services'\n",
    "soups = []\n",
    "soups_dict = {}"
   ]
  },
  {
   "cell_type": "code",
   "execution_count": 14,
   "metadata": {},
   "outputs": [],
   "source": [
    "driver = webdriver.Firefox()\n",
    "driver.get(url)\n",
    "time.sleep(2)\n",
    "\n",
    "html = driver.page_source\n",
    "raw_soup = BeautifulSoup(html)\n",
    "#remove white space\n",
    "processed_soup = raw_soup.get_text(\" \", strip=True)\n",
    "\n",
    "driver.close()"
   ]
  },
  {
   "cell_type": "code",
   "execution_count": 17,
   "metadata": {},
   "outputs": [
    {
     "name": "stdout",
     "output_type": "stream",
     "text": [
      "[\"SERVICES | The League Global top of page Skip to Main Content WIN WITH US SERVICES LEADERSHIP DEVELOPMENT Have you interviewed at a position where 3-5 years was just a pre-requisite to apply? That's obsolete at The League Global. We train the future CEO's of the marketing and sales industry from the ground up. SALES CONSULTATIONS Our marketing and sales representatives meet with customers on behalf of Fortune 500 companies to market and sell their products and services. Our consultations are always done face-to-face, rather than over the phone or via email. MARKET EXPANSION Our main focus at The League Global is to grow and expand into new markets by providing superior training to our team members and representing our clientele with the utmost integrity and professionalism. DIRECT MARKETING Interacting with customers in-person has proven to be the most effective marketing strategy. Why? The League Global is able to create quality relationships that bring about the highest customer retention and satisfaction rates! \\u200b PROFESSIONAL DEVELOPMENT We not only believe in professional development of our team members, but also the personal development that comes along with that. Development through daily meetings, quarterly and yearly conferences, etc. is something that we put a huge focus on and make sure we get the most out of them! TARGET MARKETING Because we are the link between our clients and their target market, our team at The League Global acquires new accounts on behalf of one of the largest telecommunications companies in the world. HOME ABOUT SERVICES TEAM GALLERY CAREERS CONTACT More Use tab to navigate through the menu items. CONTACT US 630-601-3291 admin@theleague.global 500 Park Blvd Itasca, IL 60143 VISIT US Monday - Friday 8AM-5PM Saturday BY APPOINTMENT Sunday CLOSED CHAT WITH US First Name Last Name Email Phone Message Submit ©2024 BY THE LEAGUE GLOBAL No Mobile information will be shared with third parties/affiliates for marketing/promotional purposes. All the above categories exclude text messaging originator opt-in data and consent; this information will not be shared with any third parties. bottom of page\", \"SERVICES | The League Global top of page Skip to Main Content WIN WITH US SERVICES LEADERSHIP DEVELOPMENT Have you interviewed at a position where 3-5 years was just a pre-requisite to apply? That's obsolete at The League Global. We train the future CEO's of the marketing and sales industry from the ground up. SALES CONSULTATIONS Our marketing and sales representatives meet with customers on behalf of Fortune 500 companies to market and sell their products and services. Our consultations are always done face-to-face, rather than over the phone or via email. MARKET EXPANSION Our main focus at The League Global is to grow and expand into new markets by providing superior training to our team members and representing our clientele with the utmost integrity and professionalism. DIRECT MARKETING Interacting with customers in-person has proven to be the most effective marketing strategy. Why? The League Global is able to create quality relationships that bring about the highest customer retention and satisfaction rates! \\u200b PROFESSIONAL DEVELOPMENT We not only believe in professional development of our team members, but also the personal development that comes along with that. Development through daily meetings, quarterly and yearly conferences, etc. is something that we put a huge focus on and make sure we get the most out of them! TARGET MARKETING Because we are the link between our clients and their target market, our team at The League Global acquires new accounts on behalf of one of the largest telecommunications companies in the world. HOME ABOUT SERVICES TEAM GALLERY CAREERS CONTACT More Use tab to navigate through the menu items. CONTACT US 630-601-3291 admin@theleague.global 500 Park Blvd Itasca, IL 60143 VISIT US Monday - Friday 8AM-5PM Saturday BY APPOINTMENT Sunday CLOSED CHAT WITH US First Name Last Name Email Phone Message Submit ©2024 BY THE LEAGUE GLOBAL No Mobile information will be shared with third parties/affiliates for marketing/promotional purposes. All the above categories exclude text messaging originator opt-in data and consent; this information will not be shared with any third parties. bottom of page\"]\n"
     ]
    }
   ],
   "source": [
    "str(processed_soup)\n",
    "soups.append(processed_soup)\n",
    "print(soups)"
   ]
  },
  {
   "cell_type": "code",
   "execution_count": 22,
   "metadata": {},
   "outputs": [],
   "source": [
    "for url in urls:\n",
    "    \n",
    "    driver = webdriver.Firefox()\n",
    "    driver.get(url)\n",
    "    time.sleep(2)\n",
    "\n",
    "    html = driver.page_source\n",
    "\n",
    "    raw_soup = BeautifulSoup(html)\n",
    "    #remove white space\n",
    "    processed_soup = raw_soup.get_text(\" \", strip=True)\n",
    "    #add to soups dictionary as url:text pair\n",
    "    soups[url] = processed_soup\n",
    "\n",
    "    driver.close()"
   ]
  },
  {
   "cell_type": "code",
   "execution_count": 32,
   "metadata": {},
   "outputs": [],
   "source": [
    "from transformers import AutoTokenizer, AutoModelForSeq2SeqLM, pipeline\n",
    "import tensorflow as tf\n",
    "import torch"
   ]
  },
  {
   "cell_type": "code",
   "execution_count": null,
   "metadata": {},
   "outputs": [],
   "source": [
    "model_name = \"allenai/led-large-16384-arxiv\"\n",
    "tokenizer = AutoTokenizer.from_pretrained(model_name)\n",
    "model = AutoModelForSeq2SeqLM.from_pretrained(model_name)\n",
    "\n",
    "pipe = pipeline(\"text2text-generation\", model=model, tokenizer=tokenizer, device=0)\n",
    "\n",
    "long_text = processed_soup\n",
    "summary = pipe(\n",
    "    long_text,\n",
    "    truncation=True, \n",
    "    max_length=300, \n",
    "    no_repeat_ngram_size=5, \n",
    "    num_beams=3, \n",
    "    early_stopping=True\n",
    "    )"
   ]
  },
  {
   "cell_type": "code",
   "execution_count": 38,
   "metadata": {},
   "outputs": [
    {
     "name": "stdout",
     "output_type": "stream",
     "text": [
      "[{'generated_text': ' the League Global is a marketing and sales agency that provides direct marketing and sales services to Fortune 500 companies to market and sell their products and services.    \\n * keywords : * marketing and sales services , direct marketing , direct sales , marketing and sales . '}]\n"
     ]
    }
   ],
   "source": [
    "print(summary)"
   ]
  }
 ],
 "metadata": {
  "kernelspec": {
   "display_name": "venv",
   "language": "python",
   "name": "python3"
  },
  "language_info": {
   "codemirror_mode": {
    "name": "ipython",
    "version": 3
   },
   "file_extension": ".py",
   "mimetype": "text/x-python",
   "name": "python",
   "nbconvert_exporter": "python",
   "pygments_lexer": "ipython3",
   "version": "3.9.6"
  }
 },
 "nbformat": 4,
 "nbformat_minor": 2
}
